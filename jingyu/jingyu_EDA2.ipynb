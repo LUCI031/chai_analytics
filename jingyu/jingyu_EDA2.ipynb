{
 "cells": [
  {
   "cell_type": "markdown",
   "metadata": {},
   "source": [
    "# data load"
   ]
  },
  {
   "cell_type": "code",
   "execution_count": 1,
   "metadata": {},
   "outputs": [],
   "source": [
    "import pandas as pd\n",
    "import numpy as np\n",
    "import matplotlib.pyplot as plt\n",
    "import seaborn as sns\n",
    "import datetime as dt"
   ]
  },
  {
   "cell_type": "code",
   "execution_count": 38,
   "metadata": {},
   "outputs": [],
   "source": [
    "## 지수 표기법 변경\n",
    "np.set_printoptions(precision=6, suppress=True)\n",
    "pd.options.display.float_format = '{:.3f}'.format"
   ]
  },
  {
   "cell_type": "code",
   "execution_count": 14,
   "metadata": {},
   "outputs": [
    {
     "name": "stdout",
     "output_type": "stream",
     "text": [
      "(5623810, 14)\n"
     ]
    },
    {
     "data": {
      "text/html": [
       "<div>\n",
       "<style scoped>\n",
       "    .dataframe tbody tr th:only-of-type {\n",
       "        vertical-align: middle;\n",
       "    }\n",
       "\n",
       "    .dataframe tbody tr th {\n",
       "        vertical-align: top;\n",
       "    }\n",
       "\n",
       "    .dataframe thead th {\n",
       "        text-align: right;\n",
       "    }\n",
       "</style>\n",
       "<table border=\"1\" class=\"dataframe\">\n",
       "  <thead>\n",
       "    <tr style=\"text-align: right;\">\n",
       "      <th></th>\n",
       "      <th>id</th>\n",
       "      <th>age</th>\n",
       "      <th>man</th>\n",
       "      <th>push</th>\n",
       "      <th>frgn</th>\n",
       "      <th>birth</th>\n",
       "      <th>sign</th>\n",
       "      <th>buy</th>\n",
       "      <th>pre</th>\n",
       "      <th>post</th>\n",
       "      <th>c_back</th>\n",
       "      <th>dscnt</th>\n",
       "      <th>total</th>\n",
       "      <th>m_id</th>\n",
       "    </tr>\n",
       "  </thead>\n",
       "  <tbody>\n",
       "    <tr>\n",
       "      <th>2639466</th>\n",
       "      <td>357745</td>\n",
       "      <td>58</td>\n",
       "      <td>1</td>\n",
       "      <td>1</td>\n",
       "      <td>0</td>\n",
       "      <td>1963-03-08</td>\n",
       "      <td>2019-08-01 00:35:35.508</td>\n",
       "      <td>2019-08-01 00:32:56.331</td>\n",
       "      <td>43000</td>\n",
       "      <td>35000</td>\n",
       "      <td>0</td>\n",
       "      <td>8000</td>\n",
       "      <td>8000</td>\n",
       "      <td>9</td>\n",
       "    </tr>\n",
       "    <tr>\n",
       "      <th>2619610</th>\n",
       "      <td>13015</td>\n",
       "      <td>40</td>\n",
       "      <td>0</td>\n",
       "      <td>0</td>\n",
       "      <td>0</td>\n",
       "      <td>1981-08-27</td>\n",
       "      <td>2019-07-18 22:51:53.022</td>\n",
       "      <td>2019-08-01 00:32:56.346</td>\n",
       "      <td>10900</td>\n",
       "      <td>5900</td>\n",
       "      <td>0</td>\n",
       "      <td>5000</td>\n",
       "      <td>5000</td>\n",
       "      <td>7</td>\n",
       "    </tr>\n",
       "  </tbody>\n",
       "</table>\n",
       "</div>"
      ],
      "text/plain": [
       "             id  age  man  push  frgn      birth                    sign  \\\n",
       "2639466  357745   58    1     1     0 1963-03-08 2019-08-01 00:35:35.508   \n",
       "2619610   13015   40    0     0     0 1981-08-27 2019-07-18 22:51:53.022   \n",
       "\n",
       "                            buy    pre   post  c_back  dscnt  total  m_id  \n",
       "2639466 2019-08-01 00:32:56.331  43000  35000       0   8000   8000     9  \n",
       "2619610 2019-08-01 00:32:56.346  10900   5900       0   5000   5000     7  "
      ]
     },
     "metadata": {},
     "output_type": "display_data"
    }
   ],
   "source": [
    "## 원본 읽어오기\n",
    "df0 = pd.read_parquet( \"../data/df0.parquet\" )\n",
    "print(df0.shape)\n",
    "display(df0.head(2))"
   ]
  },
  {
   "cell_type": "markdown",
   "metadata": {},
   "source": [
    "# Segmentation을 위한 feature 생성"
   ]
  },
  {
   "cell_type": "markdown",
   "metadata": {},
   "source": [
    "## 기존 feature 중 그대로 사용할 feature\n",
    "- man\n",
    "- push\n",
    "- frgn"
   ]
  },
  {
   "cell_type": "markdown",
   "metadata": {},
   "source": [
    "## 연령대별"
   ]
  },
  {
   "cell_type": "code",
   "execution_count": null,
   "metadata": {},
   "outputs": [],
   "source": []
  },
  {
   "cell_type": "markdown",
   "metadata": {},
   "source": [
    "## 구매 횟수별 (once and more)"
   ]
  },
  {
   "cell_type": "code",
   "execution_count": 15,
   "metadata": {},
   "outputs": [
    {
     "data": {
      "text/html": [
       "<div>\n",
       "<style scoped>\n",
       "    .dataframe tbody tr th:only-of-type {\n",
       "        vertical-align: middle;\n",
       "    }\n",
       "\n",
       "    .dataframe tbody tr th {\n",
       "        vertical-align: top;\n",
       "    }\n",
       "\n",
       "    .dataframe thead th {\n",
       "        text-align: right;\n",
       "    }\n",
       "</style>\n",
       "<table border=\"1\" class=\"dataframe\">\n",
       "  <thead>\n",
       "    <tr style=\"text-align: right;\">\n",
       "      <th></th>\n",
       "      <th>id</th>\n",
       "      <th>age</th>\n",
       "      <th>man</th>\n",
       "      <th>push</th>\n",
       "      <th>frgn</th>\n",
       "      <th>pre</th>\n",
       "      <th>post</th>\n",
       "      <th>c_back</th>\n",
       "      <th>dscnt</th>\n",
       "      <th>total</th>\n",
       "      <th>m_id</th>\n",
       "      <th>count</th>\n",
       "    </tr>\n",
       "  </thead>\n",
       "  <tbody>\n",
       "    <tr>\n",
       "      <th>0</th>\n",
       "      <td>1</td>\n",
       "      <td>70</td>\n",
       "      <td>0</td>\n",
       "      <td>0</td>\n",
       "      <td>0</td>\n",
       "      <td>24330</td>\n",
       "      <td>18960</td>\n",
       "      <td>0</td>\n",
       "      <td>5370</td>\n",
       "      <td>5370</td>\n",
       "      <td>8</td>\n",
       "      <td>2</td>\n",
       "    </tr>\n",
       "    <tr>\n",
       "      <th>1</th>\n",
       "      <td>2</td>\n",
       "      <td>52</td>\n",
       "      <td>0</td>\n",
       "      <td>0</td>\n",
       "      <td>0</td>\n",
       "      <td>25030</td>\n",
       "      <td>19359</td>\n",
       "      <td>0</td>\n",
       "      <td>5671</td>\n",
       "      <td>5671</td>\n",
       "      <td>16</td>\n",
       "      <td>2</td>\n",
       "    </tr>\n",
       "    <tr>\n",
       "      <th>2</th>\n",
       "      <td>3</td>\n",
       "      <td>40</td>\n",
       "      <td>1</td>\n",
       "      <td>1</td>\n",
       "      <td>0</td>\n",
       "      <td>18120</td>\n",
       "      <td>13440</td>\n",
       "      <td>0</td>\n",
       "      <td>4680</td>\n",
       "      <td>4680</td>\n",
       "      <td>4</td>\n",
       "      <td>1</td>\n",
       "    </tr>\n",
       "    <tr>\n",
       "      <th>3</th>\n",
       "      <td>4</td>\n",
       "      <td>280</td>\n",
       "      <td>8</td>\n",
       "      <td>8</td>\n",
       "      <td>0</td>\n",
       "      <td>227640</td>\n",
       "      <td>216980</td>\n",
       "      <td>0</td>\n",
       "      <td>10660</td>\n",
       "      <td>10660</td>\n",
       "      <td>57</td>\n",
       "      <td>8</td>\n",
       "    </tr>\n",
       "    <tr>\n",
       "      <th>4</th>\n",
       "      <td>5</td>\n",
       "      <td>264</td>\n",
       "      <td>0</td>\n",
       "      <td>6</td>\n",
       "      <td>0</td>\n",
       "      <td>65170</td>\n",
       "      <td>55170</td>\n",
       "      <td>0</td>\n",
       "      <td>10000</td>\n",
       "      <td>10000</td>\n",
       "      <td>44</td>\n",
       "      <td>6</td>\n",
       "    </tr>\n",
       "    <tr>\n",
       "      <th>...</th>\n",
       "      <td>...</td>\n",
       "      <td>...</td>\n",
       "      <td>...</td>\n",
       "      <td>...</td>\n",
       "      <td>...</td>\n",
       "      <td>...</td>\n",
       "      <td>...</td>\n",
       "      <td>...</td>\n",
       "      <td>...</td>\n",
       "      <td>...</td>\n",
       "      <td>...</td>\n",
       "      <td>...</td>\n",
       "    </tr>\n",
       "    <tr>\n",
       "      <th>544916</th>\n",
       "      <td>544917</td>\n",
       "      <td>54</td>\n",
       "      <td>0</td>\n",
       "      <td>0</td>\n",
       "      <td>0</td>\n",
       "      <td>41220</td>\n",
       "      <td>34740</td>\n",
       "      <td>0</td>\n",
       "      <td>6480</td>\n",
       "      <td>6480</td>\n",
       "      <td>15</td>\n",
       "      <td>2</td>\n",
       "    </tr>\n",
       "    <tr>\n",
       "      <th>544917</th>\n",
       "      <td>544918</td>\n",
       "      <td>483</td>\n",
       "      <td>0</td>\n",
       "      <td>21</td>\n",
       "      <td>0</td>\n",
       "      <td>268665</td>\n",
       "      <td>252665</td>\n",
       "      <td>2296</td>\n",
       "      <td>16000</td>\n",
       "      <td>18296</td>\n",
       "      <td>98</td>\n",
       "      <td>21</td>\n",
       "    </tr>\n",
       "    <tr>\n",
       "      <th>544918</th>\n",
       "      <td>544919</td>\n",
       "      <td>1763</td>\n",
       "      <td>0</td>\n",
       "      <td>43</td>\n",
       "      <td>0</td>\n",
       "      <td>529022</td>\n",
       "      <td>483123</td>\n",
       "      <td>177</td>\n",
       "      <td>45899</td>\n",
       "      <td>46076</td>\n",
       "      <td>199</td>\n",
       "      <td>43</td>\n",
       "    </tr>\n",
       "    <tr>\n",
       "      <th>544919</th>\n",
       "      <td>544920</td>\n",
       "      <td>343</td>\n",
       "      <td>7</td>\n",
       "      <td>7</td>\n",
       "      <td>0</td>\n",
       "      <td>462100</td>\n",
       "      <td>429100</td>\n",
       "      <td>441</td>\n",
       "      <td>33000</td>\n",
       "      <td>33441</td>\n",
       "      <td>35</td>\n",
       "      <td>7</td>\n",
       "    </tr>\n",
       "    <tr>\n",
       "      <th>544920</th>\n",
       "      <td>544921</td>\n",
       "      <td>350</td>\n",
       "      <td>10</td>\n",
       "      <td>0</td>\n",
       "      <td>0</td>\n",
       "      <td>243422</td>\n",
       "      <td>214464</td>\n",
       "      <td>1356</td>\n",
       "      <td>28958</td>\n",
       "      <td>30314</td>\n",
       "      <td>51</td>\n",
       "      <td>10</td>\n",
       "    </tr>\n",
       "  </tbody>\n",
       "</table>\n",
       "<p>544921 rows × 12 columns</p>\n",
       "</div>"
      ],
      "text/plain": [
       "            id   age  man  push  frgn     pre    post  c_back  dscnt  total  \\\n",
       "0            1    70    0     0     0   24330   18960       0   5370   5370   \n",
       "1            2    52    0     0     0   25030   19359       0   5671   5671   \n",
       "2            3    40    1     1     0   18120   13440       0   4680   4680   \n",
       "3            4   280    8     8     0  227640  216980       0  10660  10660   \n",
       "4            5   264    0     6     0   65170   55170       0  10000  10000   \n",
       "...        ...   ...  ...   ...   ...     ...     ...     ...    ...    ...   \n",
       "544916  544917    54    0     0     0   41220   34740       0   6480   6480   \n",
       "544917  544918   483    0    21     0  268665  252665    2296  16000  18296   \n",
       "544918  544919  1763    0    43     0  529022  483123     177  45899  46076   \n",
       "544919  544920   343    7     7     0  462100  429100     441  33000  33441   \n",
       "544920  544921   350   10     0     0  243422  214464    1356  28958  30314   \n",
       "\n",
       "        m_id  count  \n",
       "0          8      2  \n",
       "1         16      2  \n",
       "2          4      1  \n",
       "3         57      8  \n",
       "4         44      6  \n",
       "...      ...    ...  \n",
       "544916    15      2  \n",
       "544917    98     21  \n",
       "544918   199     43  \n",
       "544919    35      7  \n",
       "544920    51     10  \n",
       "\n",
       "[544921 rows x 12 columns]"
      ]
     },
     "execution_count": 15,
     "metadata": {},
     "output_type": "execute_result"
    }
   ],
   "source": [
    "# 구매 빈도 분포 확인\n",
    "df0_cus = df0.groupby('id').sum()\n",
    "a = df0.groupby('id').count().reset_index()[['id','m_id']]\n",
    "a = a.rename(columns={'m_id':'count'})\n",
    "df0_cus = df0_cus.merge(a,on='id')"
   ]
  },
  {
   "cell_type": "code",
   "execution_count": 22,
   "metadata": {},
   "outputs": [
    {
     "data": {
      "image/png": "[encoded data removed]",
      "text/plain": [
       "<Figure size 504x504 with 1 Axes>"
      ]
     },
     "metadata": {},
     "output_type": "display_data"
    }
   ],
   "source": [
    "df0_cus['count'].value_counts()\n",
    "plt.figure(figsize=(7,7),facecolor=\"white\")\n",
    "labels = df0_cus['count'].value_counts().index.to_list()\n",
    "plt.pie(df0_cus['count'].value_counts(),labels=labels,autopct='%.1f%%')\n",
    "plt.show()"
   ]
  },
  {
   "cell_type": "code",
   "execution_count": 20,
   "metadata": {},
   "outputs": [
    {
     "name": "stderr",
     "output_type": "stream",
     "text": [
      "/Users/luci031/opt/anaconda3/envs/spark/lib/python3.8/site-packages/seaborn/distributions.py:2619: FutureWarning: `distplot` is a deprecated function and will be removed in a future version. Please adapt your code to use either `displot` (a figure-level function with similar flexibility) or `histplot` (an axes-level function for histograms).\n",
      "  warnings.warn(msg, FutureWarning)\n"
     ]
    },
    {
     "data": {
      "image/png": "[encoded data removed]",
      "text/plain": [
       "<Figure size 504x504 with 1 Axes>"
      ]
     },
     "metadata": {},
     "output_type": "display_data"
    }
   ],
   "source": [
    "plt.figure(figsize=(7,7),facecolor='white')\n",
    "sns.distplot(df0_cus['count'])\n",
    "plt.show()"
   ]
  },
  {
   "cell_type": "markdown",
   "metadata": {},
   "source": [
    "## 구매 금액별 (heavy and light)"
   ]
  },
  {
   "cell_type": "code",
   "execution_count": 24,
   "metadata": {},
   "outputs": [
    {
     "data": {
      "text/html": [
       "<div>\n",
       "<style scoped>\n",
       "    .dataframe tbody tr th:only-of-type {\n",
       "        vertical-align: middle;\n",
       "    }\n",
       "\n",
       "    .dataframe tbody tr th {\n",
       "        vertical-align: top;\n",
       "    }\n",
       "\n",
       "    .dataframe thead th {\n",
       "        text-align: right;\n",
       "    }\n",
       "</style>\n",
       "<table border=\"1\" class=\"dataframe\">\n",
       "  <thead>\n",
       "    <tr style=\"text-align: right;\">\n",
       "      <th></th>\n",
       "      <th>id</th>\n",
       "      <th>age</th>\n",
       "      <th>man</th>\n",
       "      <th>push</th>\n",
       "      <th>frgn</th>\n",
       "      <th>pre</th>\n",
       "      <th>post</th>\n",
       "      <th>c_back</th>\n",
       "      <th>dscnt</th>\n",
       "      <th>total</th>\n",
       "      <th>m_id</th>\n",
       "      <th>count</th>\n",
       "    </tr>\n",
       "  </thead>\n",
       "  <tbody>\n",
       "    <tr>\n",
       "      <th>count</th>\n",
       "      <td>544921.000</td>\n",
       "      <td>544921.000</td>\n",
       "      <td>544921.000</td>\n",
       "      <td>544921.000</td>\n",
       "      <td>544921.000</td>\n",
       "      <td>544921.000</td>\n",
       "      <td>544921.000</td>\n",
       "      <td>544921.000</td>\n",
       "      <td>544921.000</td>\n",
       "      <td>544921.000</td>\n",
       "      <td>544921.000</td>\n",
       "      <td>544921.000</td>\n",
       "    </tr>\n",
       "    <tr>\n",
       "      <th>mean</th>\n",
       "      <td>272461.000</td>\n",
       "      <td>395.777</td>\n",
       "      <td>2.851</td>\n",
       "      <td>5.335</td>\n",
       "      <td>0.114</td>\n",
       "      <td>211107.465</td>\n",
       "      <td>196438.240</td>\n",
       "      <td>1265.993</td>\n",
       "      <td>14669.225</td>\n",
       "      <td>15935.218</td>\n",
       "      <td>56.765</td>\n",
       "      <td>10.320</td>\n",
       "    </tr>\n",
       "    <tr>\n",
       "      <th>std</th>\n",
       "      <td>157305.287</td>\n",
       "      <td>862.049</td>\n",
       "      <td>10.293</td>\n",
       "      <td>17.769</td>\n",
       "      <td>4.137</td>\n",
       "      <td>550003.100</td>\n",
       "      <td>527836.212</td>\n",
       "      <td>4782.908</td>\n",
       "      <td>26430.607</td>\n",
       "      <td>28799.927</td>\n",
       "      <td>114.643</td>\n",
       "      <td>20.792</td>\n",
       "    </tr>\n",
       "    <tr>\n",
       "      <th>min</th>\n",
       "      <td>1.000</td>\n",
       "      <td>15.000</td>\n",
       "      <td>0.000</td>\n",
       "      <td>0.000</td>\n",
       "      <td>0.000</td>\n",
       "      <td>500.000</td>\n",
       "      <td>0.000</td>\n",
       "      <td>0.000</td>\n",
       "      <td>0.000</td>\n",
       "      <td>0.000</td>\n",
       "      <td>1.000</td>\n",
       "      <td>1.000</td>\n",
       "    </tr>\n",
       "    <tr>\n",
       "      <th>25%</th>\n",
       "      <td>136231.000</td>\n",
       "      <td>44.000</td>\n",
       "      <td>0.000</td>\n",
       "      <td>0.000</td>\n",
       "      <td>0.000</td>\n",
       "      <td>23800.000</td>\n",
       "      <td>20140.000</td>\n",
       "      <td>0.000</td>\n",
       "      <td>2000.000</td>\n",
       "      <td>3000.000</td>\n",
       "      <td>8.000</td>\n",
       "      <td>1.000</td>\n",
       "    </tr>\n",
       "    <tr>\n",
       "      <th>50%</th>\n",
       "      <td>272461.000</td>\n",
       "      <td>118.000</td>\n",
       "      <td>0.000</td>\n",
       "      <td>0.000</td>\n",
       "      <td>0.000</td>\n",
       "      <td>67300.000</td>\n",
       "      <td>60480.000</td>\n",
       "      <td>0.000</td>\n",
       "      <td>6000.000</td>\n",
       "      <td>6681.000</td>\n",
       "      <td>18.000</td>\n",
       "      <td>3.000</td>\n",
       "    </tr>\n",
       "    <tr>\n",
       "      <th>75%</th>\n",
       "      <td>408691.000</td>\n",
       "      <td>363.000</td>\n",
       "      <td>1.000</td>\n",
       "      <td>3.000</td>\n",
       "      <td>0.000</td>\n",
       "      <td>206356.000</td>\n",
       "      <td>191024.000</td>\n",
       "      <td>660.000</td>\n",
       "      <td>15396.000</td>\n",
       "      <td>16663.000</td>\n",
       "      <td>56.000</td>\n",
       "      <td>10.000</td>\n",
       "    </tr>\n",
       "    <tr>\n",
       "      <th>max</th>\n",
       "      <td>544921.000</td>\n",
       "      <td>83855.000</td>\n",
       "      <td>477.000</td>\n",
       "      <td>2705.000</td>\n",
       "      <td>1229.000</td>\n",
       "      <td>115005350.000</td>\n",
       "      <td>112273800.000</td>\n",
       "      <td>851803.000</td>\n",
       "      <td>2731550.000</td>\n",
       "      <td>2731550.000</td>\n",
       "      <td>14875.000</td>\n",
       "      <td>2705.000</td>\n",
       "    </tr>\n",
       "  </tbody>\n",
       "</table>\n",
       "</div>"
      ],
      "text/plain": [
       "              id        age        man       push       frgn           pre  \\\n",
       "count 544921.000 544921.000 544921.000 544921.000 544921.000    544921.000   \n",
       "mean  272461.000    395.777      2.851      5.335      0.114    211107.465   \n",
       "std   157305.287    862.049     10.293     17.769      4.137    550003.100   \n",
       "min        1.000     15.000      0.000      0.000      0.000       500.000   \n",
       "25%   136231.000     44.000      0.000      0.000      0.000     23800.000   \n",
       "50%   272461.000    118.000      0.000      0.000      0.000     67300.000   \n",
       "75%   408691.000    363.000      1.000      3.000      0.000    206356.000   \n",
       "max   544921.000  83855.000    477.000   2705.000   1229.000 115005350.000   \n",
       "\n",
       "               post     c_back       dscnt       total       m_id      count  \n",
       "count    544921.000 544921.000  544921.000  544921.000 544921.000 544921.000  \n",
       "mean     196438.240   1265.993   14669.225   15935.218     56.765     10.320  \n",
       "std      527836.212   4782.908   26430.607   28799.927    114.643     20.792  \n",
       "min           0.000      0.000       0.000       0.000      1.000      1.000  \n",
       "25%       20140.000      0.000    2000.000    3000.000      8.000      1.000  \n",
       "50%       60480.000      0.000    6000.000    6681.000     18.000      3.000  \n",
       "75%      191024.000    660.000   15396.000   16663.000     56.000     10.000  \n",
       "max   112273800.000 851803.000 2731550.000 2731550.000  14875.000   2705.000  "
      ]
     },
     "execution_count": 24,
     "metadata": {},
     "output_type": "execute_result"
    }
   ],
   "source": [
    "df0_cus.describe()"
   ]
  },
  {
   "cell_type": "code",
   "execution_count": 33,
   "metadata": {},
   "outputs": [
    {
     "name": "stderr",
     "output_type": "stream",
     "text": [
      "/Users/luci031/opt/anaconda3/envs/spark/lib/python3.8/site-packages/seaborn/distributions.py:2619: FutureWarning: `distplot` is a deprecated function and will be removed in a future version. Please adapt your code to use either `displot` (a figure-level function with similar flexibility) or `histplot` (an axes-level function for histograms).\n",
      "  warnings.warn(msg, FutureWarning)\n"
     ]
    },
    {
     "data": {
      "image/png": "[encoded data removed]",
      "text/plain": [
       "<Figure size 504x504 with 1 Axes>"
      ]
     },
     "metadata": {},
     "output_type": "display_data"
    }
   ],
   "source": [
    "plt.figure(figsize=(7,7),facecolor='white')\n",
    "sns.distplot(df0_cus['pre'])\n",
    "plt.show()"
   ]
  },
  {
   "cell_type": "code",
   "execution_count": 31,
   "metadata": {},
   "outputs": [
    {
     "data": {
      "text/plain": [
       "0.10662646512063216"
      ]
     },
     "execution_count": 31,
     "metadata": {},
     "output_type": "execute_result"
    }
   ],
   "source": [
    "len(df0_cus[df0_cus['pre']>500000])/len(df0_cus)"
   ]
  },
  {
   "cell_type": "code",
   "execution_count": 52,
   "metadata": {},
   "outputs": [
    {
     "data": {
      "text/plain": [
       "100"
      ]
     },
     "execution_count": 52,
     "metadata": {},
     "output_type": "execute_result"
    }
   ],
   "source": [
    "len(np.histogram(df0_cus['pre'],100)[0])"
   ]
  },
  {
   "cell_type": "code",
   "execution_count": 53,
   "metadata": {},
   "outputs": [
    {
     "data": {
      "text/plain": [
       "array([5.000000e+02, 1.150548e+06, 2.300597e+06, 3.450646e+06,\n",
       "       4.600694e+06, 5.750742e+06, 6.900791e+06, 8.050840e+06,\n",
       "       9.200888e+06, 1.035094e+07, 1.150098e+07, 1.265103e+07,\n",
       "       1.380108e+07, 1.495113e+07, 1.610118e+07, 1.725123e+07,\n",
       "       1.840128e+07, 1.955132e+07, 2.070137e+07, 2.185142e+07,\n",
       "       2.300147e+07, 2.415152e+07, 2.530157e+07, 2.645162e+07,\n",
       "       2.760166e+07, 2.875171e+07, 2.990176e+07, 3.105181e+07,\n",
       "       3.220186e+07, 3.335191e+07, 3.450196e+07, 3.565200e+07,\n",
       "       3.680205e+07, 3.795210e+07, 3.910215e+07, 4.025220e+07,\n",
       "       4.140225e+07, 4.255229e+07, 4.370234e+07, 4.485239e+07,\n",
       "       4.600244e+07, 4.715249e+07, 4.830254e+07, 4.945259e+07,\n",
       "       5.060263e+07, 5.175268e+07, 5.290273e+07, 5.405278e+07,\n",
       "       5.520283e+07, 5.635288e+07, 5.750292e+07, 5.865297e+07,\n",
       "       5.980302e+07, 6.095307e+07, 6.210312e+07, 6.325317e+07,\n",
       "       6.440322e+07, 6.555326e+07, 6.670331e+07, 6.785336e+07,\n",
       "       6.900341e+07, 7.015346e+07, 7.130351e+07, 7.245356e+07,\n",
       "       7.360360e+07, 7.475365e+07, 7.590370e+07, 7.705375e+07,\n",
       "       7.820380e+07, 7.935385e+07, 8.050390e+07, 8.165394e+07,\n",
       "       8.280399e+07, 8.395404e+07, 8.510409e+07, 8.625414e+07,\n",
       "       8.740419e+07, 8.855423e+07, 8.970428e+07, 9.085433e+07,\n",
       "       9.200438e+07, 9.315443e+07, 9.430448e+07, 9.545453e+07,\n",
       "       9.660457e+07, 9.775462e+07, 9.890467e+07, 1.000547e+08,\n",
       "       1.012048e+08, 1.023548e+08, 1.035049e+08, 1.046549e+08,\n",
       "       1.058050e+08, 1.069550e+08, 1.081051e+08, 1.092551e+08,\n",
       "       1.104052e+08, 1.115552e+08, 1.127053e+08, 1.138553e+08,\n",
       "       1.150054e+08])"
      ]
     },
     "execution_count": 53,
     "metadata": {},
     "output_type": "execute_result"
    }
   ],
   "source": [
    "np.histogram(df0_cus['pre'],100)[1]"
   ]
  },
  {
   "cell_type": "code",
   "execution_count": 57,
   "metadata": {},
   "outputs": [
    {
     "data": {
      "text/html": [
       "<div>\n",
       "<style scoped>\n",
       "    .dataframe tbody tr th:only-of-type {\n",
       "        vertical-align: middle;\n",
       "    }\n",
       "\n",
       "    .dataframe tbody tr th {\n",
       "        vertical-align: top;\n",
       "    }\n",
       "\n",
       "    .dataframe thead th {\n",
       "        text-align: right;\n",
       "    }\n",
       "</style>\n",
       "<table border=\"1\" class=\"dataframe\">\n",
       "  <thead>\n",
       "    <tr style=\"text-align: right;\">\n",
       "      <th></th>\n",
       "      <th>price</th>\n",
       "      <th>cnt</th>\n",
       "      <th>cnt_rate</th>\n",
       "    </tr>\n",
       "  </thead>\n",
       "  <tbody>\n",
       "    <tr>\n",
       "      <th>0</th>\n",
       "      <td>500.000</td>\n",
       "      <td>528290</td>\n",
       "      <td>0.969</td>\n",
       "    </tr>\n",
       "    <tr>\n",
       "      <th>1</th>\n",
       "      <td>1150548.500</td>\n",
       "      <td>12950</td>\n",
       "      <td>0.024</td>\n",
       "    </tr>\n",
       "    <tr>\n",
       "      <th>2</th>\n",
       "      <td>2300597.000</td>\n",
       "      <td>2388</td>\n",
       "      <td>0.004</td>\n",
       "    </tr>\n",
       "    <tr>\n",
       "      <th>3</th>\n",
       "      <td>3450645.500</td>\n",
       "      <td>677</td>\n",
       "      <td>0.001</td>\n",
       "    </tr>\n",
       "    <tr>\n",
       "      <th>4</th>\n",
       "      <td>4600694.000</td>\n",
       "      <td>275</td>\n",
       "      <td>0.001</td>\n",
       "    </tr>\n",
       "    <tr>\n",
       "      <th>...</th>\n",
       "      <td>...</td>\n",
       "      <td>...</td>\n",
       "      <td>...</td>\n",
       "    </tr>\n",
       "    <tr>\n",
       "      <th>96</th>\n",
       "      <td>110405156.000</td>\n",
       "      <td>1</td>\n",
       "      <td>0.000</td>\n",
       "    </tr>\n",
       "    <tr>\n",
       "      <th>97</th>\n",
       "      <td>111555204.500</td>\n",
       "      <td>0</td>\n",
       "      <td>0.000</td>\n",
       "    </tr>\n",
       "    <tr>\n",
       "      <th>98</th>\n",
       "      <td>112705253.000</td>\n",
       "      <td>0</td>\n",
       "      <td>0.000</td>\n",
       "    </tr>\n",
       "    <tr>\n",
       "      <th>99</th>\n",
       "      <td>113855301.500</td>\n",
       "      <td>1</td>\n",
       "      <td>0.000</td>\n",
       "    </tr>\n",
       "    <tr>\n",
       "      <th>100</th>\n",
       "      <td>115005350.000</td>\n",
       "      <td>1</td>\n",
       "      <td>0.000</td>\n",
       "    </tr>\n",
       "  </tbody>\n",
       "</table>\n",
       "<p>101 rows × 3 columns</p>\n",
       "</div>"
      ],
      "text/plain": [
       "            price     cnt  cnt_rate\n",
       "0         500.000  528290     0.969\n",
       "1     1150548.500   12950     0.024\n",
       "2     2300597.000    2388     0.004\n",
       "3     3450645.500     677     0.001\n",
       "4     4600694.000     275     0.001\n",
       "..            ...     ...       ...\n",
       "96  110405156.000       1     0.000\n",
       "97  111555204.500       0     0.000\n",
       "98  112705253.000       0     0.000\n",
       "99  113855301.500       1     0.000\n",
       "100 115005350.000       1     0.000\n",
       "\n",
       "[101 rows x 3 columns]"
      ]
     },
     "execution_count": 57,
     "metadata": {},
     "output_type": "execute_result"
    }
   ],
   "source": [
    "cnt = np.histogram(df0_cus['pre'],100)[0].tolist()\n",
    "cnt.append(1)\n",
    "dis_data = pd.DataFrame( {\"price\":np.histogram(df0_cus['pre'],100)[1], \"cnt\":cnt})\n",
    "dis_data['cnt_rate'] = dis_data['cnt']/sum(dis_data['cnt'])\n",
    "dis_data"
   ]
  },
  {
   "cell_type": "markdown",
   "metadata": {},
   "source": [
    "## 시간대별"
   ]
  }
 ],
 "metadata": {
  "kernelspec": {
   "display_name": "Python 3.8.13 ('spark')",
   "language": "python",
   "name": "python3"
  },
  "language_info": {
   "codemirror_mode": {
    "name": "ipython",
    "version": 3
   },
   "file_extension": ".py",
   "mimetype": "text/x-python",
   "name": "python",
   "nbconvert_exporter": "python",
   "pygments_lexer": "ipython3",
   "version": "3.8.13"
  },
  "orig_nbformat": 4,
  "vscode": {
   "interpreter": {
    "hash": "429e603a133f7270749de4c6718dc36bbb64dabea87cc207b9c5e942bd7e51b6"
   }
  }
 },
 "nbformat": 4,
 "nbformat_minor": 2
}
