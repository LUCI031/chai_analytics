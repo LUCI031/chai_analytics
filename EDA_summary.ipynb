{
 "cells": [
  {
   "cell_type": "code",
   "execution_count": null,
   "metadata": {},
   "outputs": [],
   "source": [
    "import pandas as pd\n",
    "import numpy as np\n",
    "import matplotlib.pyplot as plt\n",
    "import seaborn as sns\n",
    "import datetime as dt"
   ]
  },
  {
   "cell_type": "code",
   "execution_count": null,
   "metadata": {},
   "outputs": [],
   "source": [
    "## 지수 표기법 변경\n",
    "np.set_printoptions(precision=6, suppress=True)\n",
    "pd.options.display.float_format = '{:.3f}'.format"
   ]
  },
  {
   "cell_type": "code",
   "execution_count": null,
   "metadata": {},
   "outputs": [],
   "source": [
    "## 원본 읽어오기\n",
    "df0 = pd.read_parquet( \"data\\df0.parquet\" )\n",
    "print(df0.shape)\n",
    "display(df0.head(2))"
   ]
  }
 ],
 "metadata": {
  "kernelspec": {
   "display_name": "Python 3.8.13 ('spark')",
   "language": "python",
   "name": "python3"
  },
  "language_info": {
   "name": "python",
   "version": "3.8.13"
  },
  "orig_nbformat": 4,
  "vscode": {
   "interpreter": {
    "hash": "429e603a133f7270749de4c6718dc36bbb64dabea87cc207b9c5e942bd7e51b6"
   }
  }
 },
 "nbformat": 4,
 "nbformat_minor": 2
}
