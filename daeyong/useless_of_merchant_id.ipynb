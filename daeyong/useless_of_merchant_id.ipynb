{
 "cells": [
  {
   "cell_type": "code",
   "execution_count": 2,
   "metadata": {
    "ExecuteTime": {
     "end_time": "2022-10-08T14:13:47.012286Z",
     "start_time": "2022-10-08T14:13:44.945466Z"
    },
    "scrolled": true
   },
   "outputs": [
    {
     "name": "stdout",
     "output_type": "stream",
     "text": [
      "(5623810, 14)     (5623810, 23)     (544921, 17)     (544921, 31)\n"
     ]
    }
   ],
   "source": [
    "import numpy as np\n",
    "import pandas as pd\n",
    "import datetime\n",
    "import matplotlib.pyplot as plt\n",
    "pd.set_option('display.max_columns', 35)  ## 생략 없이 한 번에 띄울 피쳐수 = 35\n",
    "\n",
    "df0 = pd.read_parquet( \"../data/df0.parquet\" )\n",
    "df1 = pd.read_parquet( \"../data/df1.parquet\" )  ### 추가 피쳐: 페이백율, 할인률, 종합혜택률, 구매시각추출, 구매건카운트\n",
    "df2 = pd.read_parquet( \"../data/df2.parquet\" )\n",
    "df3 = pd.read_parquet( \"../data/df3.parquet\" )  ### 추가 피쳐: 가입시각추출, 상업코드\n",
    "\n",
    "print(df0.shape, df1.shape, df2.shape, df3.shape, sep=\" \"*5)\n",
    "# display(df0.head(2))\n",
    "# display(df1.head(2))\n",
    "# display(df2.head(2))\n",
    "# display(df3.head(2))"
   ]
  },
  {
   "cell_type": "code",
   "execution_count": 29,
   "metadata": {},
   "outputs": [
    {
     "data": {
      "text/html": [
       "<div>\n",
       "<style scoped>\n",
       "    .dataframe tbody tr th:only-of-type {\n",
       "        vertical-align: middle;\n",
       "    }\n",
       "\n",
       "    .dataframe tbody tr th {\n",
       "        vertical-align: top;\n",
       "    }\n",
       "\n",
       "    .dataframe thead th {\n",
       "        text-align: right;\n",
       "    }\n",
       "</style>\n",
       "<table border=\"1\" class=\"dataframe\">\n",
       "  <thead>\n",
       "    <tr style=\"text-align: right;\">\n",
       "      <th></th>\n",
       "      <th>id</th>\n",
       "      <th>age</th>\n",
       "      <th>man</th>\n",
       "      <th>push</th>\n",
       "      <th>frgn</th>\n",
       "      <th>birth</th>\n",
       "      <th>sign</th>\n",
       "      <th>buy</th>\n",
       "      <th>m_id</th>\n",
       "      <th>pre</th>\n",
       "      <th>post</th>\n",
       "      <th>c_back</th>\n",
       "      <th>dscnt</th>\n",
       "      <th>total</th>\n",
       "    </tr>\n",
       "  </thead>\n",
       "  <tbody>\n",
       "    <tr>\n",
       "      <th>0</th>\n",
       "      <td>357745</td>\n",
       "      <td>58</td>\n",
       "      <td>1</td>\n",
       "      <td>1</td>\n",
       "      <td>0</td>\n",
       "      <td>1963-03-08</td>\n",
       "      <td>2019-08-01 00:35:35.508</td>\n",
       "      <td>2019-08-01 00:32:56.331</td>\n",
       "      <td>9</td>\n",
       "      <td>43000</td>\n",
       "      <td>35000</td>\n",
       "      <td>0</td>\n",
       "      <td>8000</td>\n",
       "      <td>8000</td>\n",
       "    </tr>\n",
       "    <tr>\n",
       "      <th>1</th>\n",
       "      <td>13015</td>\n",
       "      <td>40</td>\n",
       "      <td>0</td>\n",
       "      <td>0</td>\n",
       "      <td>0</td>\n",
       "      <td>1981-08-27</td>\n",
       "      <td>2019-07-18 22:51:53.022</td>\n",
       "      <td>2019-08-01 00:32:56.346</td>\n",
       "      <td>7</td>\n",
       "      <td>10900</td>\n",
       "      <td>5900</td>\n",
       "      <td>0</td>\n",
       "      <td>5000</td>\n",
       "      <td>5000</td>\n",
       "    </tr>\n",
       "    <tr>\n",
       "      <th>2</th>\n",
       "      <td>210615</td>\n",
       "      <td>34</td>\n",
       "      <td>1</td>\n",
       "      <td>0</td>\n",
       "      <td>0</td>\n",
       "      <td>1987-01-19</td>\n",
       "      <td>2019-06-17 09:08:11.430</td>\n",
       "      <td>2019-08-01 00:32:57.160</td>\n",
       "      <td>4</td>\n",
       "      <td>10900</td>\n",
       "      <td>5900</td>\n",
       "      <td>0</td>\n",
       "      <td>5000</td>\n",
       "      <td>5000</td>\n",
       "    </tr>\n",
       "    <tr>\n",
       "      <th>3</th>\n",
       "      <td>424964</td>\n",
       "      <td>40</td>\n",
       "      <td>0</td>\n",
       "      <td>1</td>\n",
       "      <td>0</td>\n",
       "      <td>1981-04-07</td>\n",
       "      <td>2019-07-10 13:38:45.467</td>\n",
       "      <td>2019-08-01 00:32:57.680</td>\n",
       "      <td>6</td>\n",
       "      <td>11770</td>\n",
       "      <td>6770</td>\n",
       "      <td>0</td>\n",
       "      <td>5000</td>\n",
       "      <td>5000</td>\n",
       "    </tr>\n",
       "    <tr>\n",
       "      <th>4</th>\n",
       "      <td>194227</td>\n",
       "      <td>39</td>\n",
       "      <td>1</td>\n",
       "      <td>1</td>\n",
       "      <td>0</td>\n",
       "      <td>1982-04-02</td>\n",
       "      <td>2019-07-22 04:31:12.322</td>\n",
       "      <td>2019-08-01 00:32:57.712</td>\n",
       "      <td>8</td>\n",
       "      <td>9800</td>\n",
       "      <td>4800</td>\n",
       "      <td>0</td>\n",
       "      <td>5000</td>\n",
       "      <td>5000</td>\n",
       "    </tr>\n",
       "  </tbody>\n",
       "</table>\n",
       "</div>"
      ],
      "text/plain": [
       "       id  age  man  push  frgn      birth                    sign  \\\n",
       "0  357745   58    1     1     0 1963-03-08 2019-08-01 00:35:35.508   \n",
       "1   13015   40    0     0     0 1981-08-27 2019-07-18 22:51:53.022   \n",
       "2  210615   34    1     0     0 1987-01-19 2019-06-17 09:08:11.430   \n",
       "3  424964   40    0     1     0 1981-04-07 2019-07-10 13:38:45.467   \n",
       "4  194227   39    1     1     0 1982-04-02 2019-07-22 04:31:12.322   \n",
       "\n",
       "                      buy  m_id    pre   post  c_back  dscnt  total  \n",
       "0 2019-08-01 00:32:56.331     9  43000  35000       0   8000   8000  \n",
       "1 2019-08-01 00:32:56.346     7  10900   5900       0   5000   5000  \n",
       "2 2019-08-01 00:32:57.160     4  10900   5900       0   5000   5000  \n",
       "3 2019-08-01 00:32:57.680     6  11770   6770       0   5000   5000  \n",
       "4 2019-08-01 00:32:57.712     8   9800   4800       0   5000   5000  "
      ]
     },
     "execution_count": 29,
     "metadata": {},
     "output_type": "execute_result"
    }
   ],
   "source": [
    "df0.head()"
   ]
  },
  {
   "cell_type": "markdown",
   "metadata": {},
   "source": [
    "## merchant_id 를 분석해 보자. 먼저 몇 개의 데이터가 있을까?"
   ]
  },
  {
   "cell_type": "code",
   "execution_count": 24,
   "metadata": {},
   "outputs": [
    {
     "name": "stderr",
     "output_type": "stream",
     "text": [
      "/var/folders/nq/s4zx76p53d11lnr0t1dxpxh00000gn/T/ipykernel_6972/2421309658.py:9: UserWarning: FixedFormatter should only be used together with FixedLocator\n",
      "  plt.gca().set_yticklabels(['{:.0f}'.format(x) for x in current_values])\n"
     ]
    },
    {
     "data": {
      "image/png": "[encoded data removed]",
      "text/plain": [
       "<Figure size 576x504 with 1 Axes>"
      ]
     },
     "metadata": {},
     "output_type": "display_data"
    }
   ],
   "source": [
    "plt.figure(figsize=(8,7),facecolor=\"white\")\n",
    "plt.rc('font', size=18)\n",
    "plt.rc('ytick', labelsize=12) \n",
    "b = df0.m_id.value_counts()\n",
    "plt.title('distributions of merchant_id')\n",
    "aaa = plt.bar(b.index,b,color='#a55eea')\n",
    "plt.xticks([1,2,3,4,5,6,7,8,9,10])\n",
    "current_values = plt.gca().get_yticks()\n",
    "plt.gca().set_yticklabels(['{:.0f}'.format(x) for x in current_values])\n",
    "m_h = 0\n",
    "for rect in aaa:\n",
    "    height = rect.get_height()\n",
    "    m_h = max(m_h,height)\n",
    "plt.ylim(0,m_h*1.1)\n",
    "plt.show()"
   ]
  },
  {
   "cell_type": "markdown",
   "metadata": {},
   "source": [
    "정말 신기하게도 거의 동일한 개수를 보여준다."
   ]
  },
  {
   "cell_type": "markdown",
   "metadata": {},
   "source": [
    "* 성별을 기준으로 merchant_id 개수는?"
   ]
  },
  {
   "cell_type": "code",
   "execution_count": 32,
   "metadata": {},
   "outputs": [
    {
     "data": {
      "text/plain": [
       "man  m_id\n",
       "0    1       225685\n",
       "     2       451566\n",
       "     3       453239\n",
       "     4       452268\n",
       "     5       451290\n",
       "     6       451833\n",
       "     7       451893\n",
       "     8       452875\n",
       "     9       453184\n",
       "     10      226244\n",
       "1    1        86507\n",
       "     2       172492\n",
       "     3       173074\n",
       "     4       172833\n",
       "     5       172925\n",
       "     6       172887\n",
       "     7       172394\n",
       "     8       171931\n",
       "     9       172835\n",
       "     10       85855\n",
       "Name: m_id, dtype: int64"
      ]
     },
     "execution_count": 32,
     "metadata": {},
     "output_type": "execute_result"
    }
   ],
   "source": [
    "df0.groupby('man').m_id.value_counts().sort_index()"
   ]
  },
  {
   "cell_type": "markdown",
   "metadata": {},
   "source": [
    "두 가지 중에 하나다.\n",
    "\n",
    "사람들이 정말 고르게 구매를 하거나 merchant_id는 가공된 데이터일 수 있다."
   ]
  },
  {
   "cell_type": "markdown",
   "metadata": {},
   "source": [
    "### 근거 1 : 차이에 가입한 고객이 첫 번째 두 번째로 구매하는 merchant_id를 찾아보자."
   ]
  },
  {
   "cell_type": "markdown",
   "metadata": {},
   "source": [
    "** 2019년 8월 1일 이후 가입한 유저들만 뽑는다."
   ]
  },
  {
   "cell_type": "markdown",
   "metadata": {},
   "source": [
    "** 신규 가입자는 첫 구매를 어디에서 했는가?"
   ]
  },
  {
   "cell_type": "code",
   "execution_count": 36,
   "metadata": {},
   "outputs": [
    {
     "data": {
      "text/html": [
       "<div>\n",
       "<style scoped>\n",
       "    .dataframe tbody tr th:only-of-type {\n",
       "        vertical-align: middle;\n",
       "    }\n",
       "\n",
       "    .dataframe tbody tr th {\n",
       "        vertical-align: top;\n",
       "    }\n",
       "\n",
       "    .dataframe thead th {\n",
       "        text-align: right;\n",
       "    }\n",
       "</style>\n",
       "<table border=\"1\" class=\"dataframe\">\n",
       "  <thead>\n",
       "    <tr style=\"text-align: right;\">\n",
       "      <th></th>\n",
       "      <th>age</th>\n",
       "      <th>man</th>\n",
       "      <th>push</th>\n",
       "      <th>frgn</th>\n",
       "      <th>birth</th>\n",
       "      <th>sign</th>\n",
       "      <th>buy</th>\n",
       "      <th>m_id</th>\n",
       "      <th>pre</th>\n",
       "      <th>post</th>\n",
       "      <th>c_back</th>\n",
       "      <th>dscnt</th>\n",
       "      <th>total</th>\n",
       "    </tr>\n",
       "    <tr>\n",
       "      <th>id</th>\n",
       "      <th></th>\n",
       "      <th></th>\n",
       "      <th></th>\n",
       "      <th></th>\n",
       "      <th></th>\n",
       "      <th></th>\n",
       "      <th></th>\n",
       "      <th></th>\n",
       "      <th></th>\n",
       "      <th></th>\n",
       "      <th></th>\n",
       "      <th></th>\n",
       "      <th></th>\n",
       "    </tr>\n",
       "  </thead>\n",
       "  <tbody>\n",
       "    <tr>\n",
       "      <th>1</th>\n",
       "      <td>2</td>\n",
       "      <td>2</td>\n",
       "      <td>2</td>\n",
       "      <td>2</td>\n",
       "      <td>2</td>\n",
       "      <td>2</td>\n",
       "      <td>2</td>\n",
       "      <td>2</td>\n",
       "      <td>2</td>\n",
       "      <td>2</td>\n",
       "      <td>2</td>\n",
       "      <td>2</td>\n",
       "      <td>2</td>\n",
       "    </tr>\n",
       "    <tr>\n",
       "      <th>2</th>\n",
       "      <td>2</td>\n",
       "      <td>2</td>\n",
       "      <td>2</td>\n",
       "      <td>2</td>\n",
       "      <td>2</td>\n",
       "      <td>2</td>\n",
       "      <td>2</td>\n",
       "      <td>2</td>\n",
       "      <td>2</td>\n",
       "      <td>2</td>\n",
       "      <td>2</td>\n",
       "      <td>2</td>\n",
       "      <td>2</td>\n",
       "    </tr>\n",
       "    <tr>\n",
       "      <th>3</th>\n",
       "      <td>1</td>\n",
       "      <td>1</td>\n",
       "      <td>1</td>\n",
       "      <td>1</td>\n",
       "      <td>1</td>\n",
       "      <td>1</td>\n",
       "      <td>1</td>\n",
       "      <td>1</td>\n",
       "      <td>1</td>\n",
       "      <td>1</td>\n",
       "      <td>1</td>\n",
       "      <td>1</td>\n",
       "      <td>1</td>\n",
       "    </tr>\n",
       "    <tr>\n",
       "      <th>5</th>\n",
       "      <td>6</td>\n",
       "      <td>6</td>\n",
       "      <td>6</td>\n",
       "      <td>6</td>\n",
       "      <td>6</td>\n",
       "      <td>6</td>\n",
       "      <td>6</td>\n",
       "      <td>6</td>\n",
       "      <td>6</td>\n",
       "      <td>6</td>\n",
       "      <td>6</td>\n",
       "      <td>6</td>\n",
       "      <td>6</td>\n",
       "    </tr>\n",
       "    <tr>\n",
       "      <th>6</th>\n",
       "      <td>2</td>\n",
       "      <td>2</td>\n",
       "      <td>2</td>\n",
       "      <td>2</td>\n",
       "      <td>2</td>\n",
       "      <td>2</td>\n",
       "      <td>2</td>\n",
       "      <td>2</td>\n",
       "      <td>2</td>\n",
       "      <td>2</td>\n",
       "      <td>2</td>\n",
       "      <td>2</td>\n",
       "      <td>2</td>\n",
       "    </tr>\n",
       "    <tr>\n",
       "      <th>...</th>\n",
       "      <td>...</td>\n",
       "      <td>...</td>\n",
       "      <td>...</td>\n",
       "      <td>...</td>\n",
       "      <td>...</td>\n",
       "      <td>...</td>\n",
       "      <td>...</td>\n",
       "      <td>...</td>\n",
       "      <td>...</td>\n",
       "      <td>...</td>\n",
       "      <td>...</td>\n",
       "      <td>...</td>\n",
       "      <td>...</td>\n",
       "    </tr>\n",
       "    <tr>\n",
       "      <th>544917</th>\n",
       "      <td>2</td>\n",
       "      <td>2</td>\n",
       "      <td>2</td>\n",
       "      <td>2</td>\n",
       "      <td>2</td>\n",
       "      <td>2</td>\n",
       "      <td>2</td>\n",
       "      <td>2</td>\n",
       "      <td>2</td>\n",
       "      <td>2</td>\n",
       "      <td>2</td>\n",
       "      <td>2</td>\n",
       "      <td>2</td>\n",
       "    </tr>\n",
       "    <tr>\n",
       "      <th>544918</th>\n",
       "      <td>21</td>\n",
       "      <td>21</td>\n",
       "      <td>21</td>\n",
       "      <td>21</td>\n",
       "      <td>21</td>\n",
       "      <td>21</td>\n",
       "      <td>21</td>\n",
       "      <td>21</td>\n",
       "      <td>21</td>\n",
       "      <td>21</td>\n",
       "      <td>21</td>\n",
       "      <td>21</td>\n",
       "      <td>21</td>\n",
       "    </tr>\n",
       "    <tr>\n",
       "      <th>544919</th>\n",
       "      <td>43</td>\n",
       "      <td>43</td>\n",
       "      <td>43</td>\n",
       "      <td>43</td>\n",
       "      <td>43</td>\n",
       "      <td>43</td>\n",
       "      <td>43</td>\n",
       "      <td>43</td>\n",
       "      <td>43</td>\n",
       "      <td>43</td>\n",
       "      <td>43</td>\n",
       "      <td>43</td>\n",
       "      <td>43</td>\n",
       "    </tr>\n",
       "    <tr>\n",
       "      <th>544920</th>\n",
       "      <td>7</td>\n",
       "      <td>7</td>\n",
       "      <td>7</td>\n",
       "      <td>7</td>\n",
       "      <td>7</td>\n",
       "      <td>7</td>\n",
       "      <td>7</td>\n",
       "      <td>7</td>\n",
       "      <td>7</td>\n",
       "      <td>7</td>\n",
       "      <td>7</td>\n",
       "      <td>7</td>\n",
       "      <td>7</td>\n",
       "    </tr>\n",
       "    <tr>\n",
       "      <th>544921</th>\n",
       "      <td>10</td>\n",
       "      <td>10</td>\n",
       "      <td>10</td>\n",
       "      <td>10</td>\n",
       "      <td>10</td>\n",
       "      <td>10</td>\n",
       "      <td>10</td>\n",
       "      <td>10</td>\n",
       "      <td>10</td>\n",
       "      <td>10</td>\n",
       "      <td>10</td>\n",
       "      <td>10</td>\n",
       "      <td>10</td>\n",
       "    </tr>\n",
       "  </tbody>\n",
       "</table>\n",
       "<p>392188 rows × 13 columns</p>\n",
       "</div>"
      ],
      "text/plain": [
       "        age  man  push  frgn  birth  sign  buy  m_id  pre  post  c_back  \\\n",
       "id                                                                        \n",
       "1         2    2     2     2      2     2    2     2    2     2       2   \n",
       "2         2    2     2     2      2     2    2     2    2     2       2   \n",
       "3         1    1     1     1      1     1    1     1    1     1       1   \n",
       "5         6    6     6     6      6     6    6     6    6     6       6   \n",
       "6         2    2     2     2      2     2    2     2    2     2       2   \n",
       "...     ...  ...   ...   ...    ...   ...  ...   ...  ...   ...     ...   \n",
       "544917    2    2     2     2      2     2    2     2    2     2       2   \n",
       "544918   21   21    21    21     21    21   21    21   21    21      21   \n",
       "544919   43   43    43    43     43    43   43    43   43    43      43   \n",
       "544920    7    7     7     7      7     7    7     7    7     7       7   \n",
       "544921   10   10    10    10     10    10   10    10   10    10      10   \n",
       "\n",
       "        dscnt  total  \n",
       "id                    \n",
       "1           2      2  \n",
       "2           2      2  \n",
       "3           1      1  \n",
       "5           6      6  \n",
       "6           2      2  \n",
       "...       ...    ...  \n",
       "544917      2      2  \n",
       "544918     21     21  \n",
       "544919     43     43  \n",
       "544920      7      7  \n",
       "544921     10     10  \n",
       "\n",
       "[392188 rows x 13 columns]"
      ]
     },
     "execution_count": 36,
     "metadata": {},
     "output_type": "execute_result"
    }
   ],
   "source": [
    "new_member_purchase.groupby('id').count()"
   ]
  },
  {
   "cell_type": "code",
   "execution_count": 34,
   "metadata": {},
   "outputs": [
    {
     "name": "stderr",
     "output_type": "stream",
     "text": [
      "/var/folders/nq/s4zx76p53d11lnr0t1dxpxh00000gn/T/ipykernel_6972/575688873.py:11: UserWarning: FixedFormatter should only be used together with FixedLocator\n",
      "  plt.gca().set_yticklabels(['{:.0f}'.format(x) for x in current_values])\n"
     ]
    },
    {
     "data": {
      "image/png": "[encoded data removed]",
      "text/plain": [
       "<Figure size 576x504 with 1 Axes>"
      ]
     },
     "metadata": {},
     "output_type": "display_data"
    },
    {
     "name": "stderr",
     "output_type": "stream",
     "text": [
      "/var/folders/nq/s4zx76p53d11lnr0t1dxpxh00000gn/T/ipykernel_6972/575688873.py:28: UserWarning: FixedFormatter should only be used together with FixedLocator\n",
      "  plt.gca().set_yticklabels(['{:.0f}'.format(x) for x in current_values])\n"
     ]
    },
    {
     "data": {
      "image/png": "[encoded data removed]",
      "text/plain": [
       "<Figure size 576x504 with 1 Axes>"
      ]
     },
     "metadata": {},
     "output_type": "display_data"
    }
   ],
   "source": [
    "new_member_purchase = df0[df0.sign > '2019-08-01']\n",
    "first_purchase = new_member_purchase.groupby('id', as_index=False).nth(0).m_id.value_counts().sort_index()\n",
    "\n",
    "plt.figure(figsize=(8,7),facecolor=\"white\")\n",
    "plt.rc('font', size=18)\n",
    "plt.rc('ytick', labelsize=12) \n",
    "plt.title('merchant_id of first_purchase')\n",
    "aaa = plt.bar(first_purchase.index,first_purchase,color='#82589F')\n",
    "plt.xticks([1,2,3,4,5,6,7,8,9,10])\n",
    "current_values = plt.gca().get_yticks()\n",
    "plt.gca().set_yticklabels(['{:.0f}'.format(x) for x in current_values])\n",
    "m_h = 0\n",
    "for rect in aaa:\n",
    "    height = rect.get_height()\n",
    "    m_h = max(m_h,height)\n",
    "plt.ylim(0,m_h*1.1)\n",
    "plt.show()\n",
    "\n",
    "second_purchase = new_member_purchase.groupby('id', as_index=False).nth(1).m_id.value_counts().sort_index()\n",
    "\n",
    "plt.figure(figsize=(8,7),facecolor=\"white\")\n",
    "plt.rc('font', size=18)\n",
    "plt.rc('ytick', labelsize=12) \n",
    "plt.title('merchant_id of second_purchase')\n",
    "aaa = plt.bar(second_purchase.index,second_purchase,color='#B33771')\n",
    "plt.xticks([1,2,3,4,5,6,7,8,9,10])\n",
    "current_values = plt.gca().get_yticks()\n",
    "plt.gca().set_yticklabels(['{:.0f}'.format(x) for x in current_values])\n",
    "m_h = 0\n",
    "for rect in aaa:\n",
    "    height = rect.get_height()\n",
    "    m_h = max(m_h,height)\n",
    "plt.ylim(0,m_h*1.1)\n",
    "plt.show()"
   ]
  },
  {
   "cell_type": "markdown",
   "metadata": {},
   "source": [
    "** 신규 가입자는 두 번째 구매를 어디에서 했는가?"
   ]
  },
  {
   "cell_type": "markdown",
   "metadata": {},
   "source": [
    "결과 : 1번과 10번 merchant_id를 합하면 신기하게도 거의 동일한 값을 지니게 된다. 말도 안된다."
   ]
  },
  {
   "cell_type": "markdown",
   "metadata": {},
   "source": [
    "### 근거 2 : 비싼 금액대의 상품이 어떤 merchant_id에서 판매되었는지 살펴보자."
   ]
  },
  {
   "cell_type": "code",
   "execution_count": 40,
   "metadata": {},
   "outputs": [
    {
     "name": "stderr",
     "output_type": "stream",
     "text": [
      "/var/folders/nq/s4zx76p53d11lnr0t1dxpxh00000gn/T/ipykernel_6972/3203916090.py:12: UserWarning: FixedFormatter should only be used together with FixedLocator\n",
      "  plt.gca().set_yticklabels(['{:.0f}'.format(x) for x in current_values])\n"
     ]
    },
    {
     "data": {
      "image/png": "[encoded data removed]",
      "text/plain": [
       "<Figure size 576x504 with 1 Axes>"
      ]
     },
     "metadata": {},
     "output_type": "display_data"
    }
   ],
   "source": [
    "# 가정 : 금액이 큰 결제건의 경우 특정 merchant에 쏠려 있을 것이다.\n",
    "df0[df0.pre > 500000].pre.value_counts()\n",
    "expensive_purchase = df0[df0.pre == 935000].m_id.value_counts().sort_index()\n",
    "\n",
    "plt.figure(figsize=(8,7),facecolor=\"white\")\n",
    "plt.rc('font', size=18)\n",
    "plt.rc('ytick', labelsize=12) \n",
    "plt.title('merchant_id of expensive_purchase')\n",
    "aaa = plt.bar(expensive_purchase.index,expensive_purchase,color='#fa8231')\n",
    "plt.xticks([1,2,3,4,5,6,7,8,9,10])\n",
    "current_values = plt.gca().get_yticks()\n",
    "plt.gca().set_yticklabels(['{:.0f}'.format(x) for x in current_values])\n",
    "m_h = 0\n",
    "for rect in aaa:\n",
    "    height = rect.get_height()\n",
    "    m_h = max(m_h,height)\n",
    "plt.ylim(0,m_h*1.1)\n",
    "plt.show()"
   ]
  },
  {
   "cell_type": "markdown",
   "metadata": {},
   "source": [
    "결과 : 935000원 짜리 상품을 어떻게 고르게 판매할 수 있는가? 심지어 1번과 10번을 합하면 역시나 전체가 비슷한 개수를 보이는 모습이다."
   ]
  },
  {
   "cell_type": "markdown",
   "metadata": {},
   "source": [
    "## 결론 : 이것은 만들어진 데이터이다. \n",
    "\n",
    "그렇다면 왜 가공했을까?"
   ]
  },
  {
   "cell_type": "code",
   "execution_count": null,
   "metadata": {},
   "outputs": [],
   "source": []
  }
 ],
 "metadata": {
  "kernelspec": {
   "display_name": "Python 3.8.13",
   "language": "python",
   "name": "python3"
  },
  "language_info": {
   "codemirror_mode": {
    "name": "ipython",
    "version": 3
   },
   "file_extension": ".py",
   "mimetype": "text/x-python",
   "name": "python",
   "nbconvert_exporter": "python",
   "pygments_lexer": "ipython3",
   "version": "3.8.13"
  },
  "toc": {
   "base_numbering": 1,
   "nav_menu": {},
   "number_sections": true,
   "sideBar": true,
   "skip_h1_title": false,
   "title_cell": "Table of Contents",
   "title_sidebar": "Contents",
   "toc_cell": false,
   "toc_position": {},
   "toc_section_display": true,
   "toc_window_display": false
  },
  "vscode": {
   "interpreter": {
    "hash": "edd2e1eeac16ba0124adb27271db416cf5b91db76e0734afe4505ea0738c76e5"
   }
  }
 },
 "nbformat": 4,
 "nbformat_minor": 2
}
