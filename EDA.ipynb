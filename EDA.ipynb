{
 "cells": [
  {
   "cell_type": "markdown",
   "metadata": {},
   "source": [
    "# 데이터 불러오기"
   ]
  },
  {
   "cell_type": "code",
   "execution_count": 212,
   "metadata": {},
   "outputs": [],
   "source": [
    "import pandas as pd\n",
    "import numpy as np\n",
    "import matplotlib.pyplot as plt\n",
    "import seaborn as sns"
   ]
  },
  {
   "cell_type": "code",
   "execution_count": 213,
   "metadata": {},
   "outputs": [],
   "source": [
    "# 지수 표기법 변경\n",
    "np.set_printoptions(precision=6, suppress=True)\n",
    "pd.options.display.float_format = '{:.3f}'.format"
   ]
  },
  {
   "cell_type": "code",
   "execution_count": 214,
   "metadata": {},
   "outputs": [],
   "source": [
    "# data load\n",
    "path = '/Users/luci031/Desktop/Coding/chai/data'\n",
    "df = pd.read_csv(path+'/chai_proceed.csv')"
   ]
  },
  {
   "cell_type": "code",
   "execution_count": 215,
   "metadata": {},
   "outputs": [],
   "source": [
    "# 시계열 처리\n",
    "\n",
    "df['created_at'] = pd.to_datetime(df['created_at'])\n",
    "df['birthday'] = pd.to_datetime(df['birthday'])\n",
    "df['sign_up_date'] = pd.to_datetime(df['sign_up_date'])"
   ]
  },
  {
   "cell_type": "code",
   "execution_count": 216,
   "metadata": {},
   "outputs": [],
   "source": [
    "# customer_id, merchant_id string으로 변경\n",
    "\n",
    "df['customer_id'] = df['customer_id'].astype('string')\n",
    "df['merchant_id'] = df['merchant_id'].astype('string')"
   ]
  },
  {
   "cell_type": "code",
   "execution_count": 217,
   "metadata": {},
   "outputs": [],
   "source": [
    "# unnamed 삭제\n",
    "df = df.iloc[::,1:]"
   ]
  },
  {
   "cell_type": "code",
   "execution_count": 218,
   "metadata": {},
   "outputs": [
    {
     "name": "stdout",
     "output_type": "stream",
     "text": [
      "<class 'pandas.core.frame.DataFrame'>\n",
      "RangeIndex: 5623810 entries, 0 to 5623809\n",
      "Data columns (total 13 columns):\n",
      " #   Column           Dtype         \n",
      "---  ------           -----         \n",
      " 0   customer_id      string        \n",
      " 1   created_at       datetime64[ns]\n",
      " 2   pre_discount     int64         \n",
      " 3   post_discount    int64         \n",
      " 4   cashback_amount  int64         \n",
      " 5   discount_amount  int64         \n",
      " 6   total_promotion  int64         \n",
      " 7   push_permission  bool          \n",
      " 8   gender           int64         \n",
      " 9   is_foreigner     bool          \n",
      " 10  birthday         datetime64[ns]\n",
      " 11  sign_up_date     datetime64[ns]\n",
      " 12  merchant_id      string        \n",
      "dtypes: bool(2), datetime64[ns](3), int64(6), string(2)\n",
      "memory usage: 482.7 MB\n"
     ]
    }
   ],
   "source": [
    "df.info()"
   ]
  },
  {
   "cell_type": "markdown",
   "metadata": {},
   "source": [
    "# 데이터 탐색"
   ]
  },
  {
   "cell_type": "markdown",
   "metadata": {},
   "source": [
    "## 전반적인 데이터 분포"
   ]
  },
  {
   "cell_type": "code",
   "execution_count": 219,
   "metadata": {},
   "outputs": [
    {
     "data": {
      "text/html": [
       "<div>\n",
       "<style scoped>\n",
       "    .dataframe tbody tr th:only-of-type {\n",
       "        vertical-align: middle;\n",
       "    }\n",
       "\n",
       "    .dataframe tbody tr th {\n",
       "        vertical-align: top;\n",
       "    }\n",
       "\n",
       "    .dataframe thead th {\n",
       "        text-align: right;\n",
       "    }\n",
       "</style>\n",
       "<table border=\"1\" class=\"dataframe\">\n",
       "  <thead>\n",
       "    <tr style=\"text-align: right;\">\n",
       "      <th></th>\n",
       "      <th>customer_id</th>\n",
       "      <th>created_at</th>\n",
       "      <th>pre_discount</th>\n",
       "      <th>post_discount</th>\n",
       "      <th>cashback_amount</th>\n",
       "      <th>discount_amount</th>\n",
       "      <th>total_promotion</th>\n",
       "      <th>push_permission</th>\n",
       "      <th>gender</th>\n",
       "      <th>is_foreigner</th>\n",
       "      <th>birthday</th>\n",
       "      <th>sign_up_date</th>\n",
       "      <th>merchant_id</th>\n",
       "    </tr>\n",
       "  </thead>\n",
       "  <tbody>\n",
       "    <tr>\n",
       "      <th>0</th>\n",
       "      <td>207317</td>\n",
       "      <td>2020-03-22 10:27:52.498</td>\n",
       "      <td>36236</td>\n",
       "      <td>36236</td>\n",
       "      <td>1087</td>\n",
       "      <td>0</td>\n",
       "      <td>1087</td>\n",
       "      <td>True</td>\n",
       "      <td>1</td>\n",
       "      <td>False</td>\n",
       "      <td>1957-11-05</td>\n",
       "      <td>2019-11-30 16:48:19.339</td>\n",
       "      <td>9</td>\n",
       "    </tr>\n",
       "    <tr>\n",
       "      <th>1</th>\n",
       "      <td>95246</td>\n",
       "      <td>2020-03-12 09:41:09.845</td>\n",
       "      <td>12900</td>\n",
       "      <td>12900</td>\n",
       "      <td>387</td>\n",
       "      <td>0</td>\n",
       "      <td>387</td>\n",
       "      <td>True</td>\n",
       "      <td>1</td>\n",
       "      <td>False</td>\n",
       "      <td>1983-10-23</td>\n",
       "      <td>2019-07-09 08:21:14.098</td>\n",
       "      <td>6</td>\n",
       "    </tr>\n",
       "    <tr>\n",
       "      <th>2</th>\n",
       "      <td>208074</td>\n",
       "      <td>2020-02-01 08:54:53.246</td>\n",
       "      <td>7500</td>\n",
       "      <td>7500</td>\n",
       "      <td>225</td>\n",
       "      <td>0</td>\n",
       "      <td>225</td>\n",
       "      <td>True</td>\n",
       "      <td>1</td>\n",
       "      <td>False</td>\n",
       "      <td>1975-07-06</td>\n",
       "      <td>2019-08-15 01:02:13.336</td>\n",
       "      <td>9</td>\n",
       "    </tr>\n",
       "    <tr>\n",
       "      <th>3</th>\n",
       "      <td>15552</td>\n",
       "      <td>2020-03-06 10:23:21.183</td>\n",
       "      <td>11800</td>\n",
       "      <td>11800</td>\n",
       "      <td>354</td>\n",
       "      <td>0</td>\n",
       "      <td>354</td>\n",
       "      <td>False</td>\n",
       "      <td>0</td>\n",
       "      <td>False</td>\n",
       "      <td>1996-08-21</td>\n",
       "      <td>2019-08-06 02:09:28.712</td>\n",
       "      <td>4</td>\n",
       "    </tr>\n",
       "    <tr>\n",
       "      <th>4</th>\n",
       "      <td>511595</td>\n",
       "      <td>2020-03-13 12:00:27.914</td>\n",
       "      <td>29700</td>\n",
       "      <td>29700</td>\n",
       "      <td>891</td>\n",
       "      <td>0</td>\n",
       "      <td>891</td>\n",
       "      <td>True</td>\n",
       "      <td>1</td>\n",
       "      <td>False</td>\n",
       "      <td>1999-01-23</td>\n",
       "      <td>2020-03-12 00:33:46.147</td>\n",
       "      <td>5</td>\n",
       "    </tr>\n",
       "  </tbody>\n",
       "</table>\n",
       "</div>"
      ],
      "text/plain": [
       "  customer_id              created_at  pre_discount  post_discount  \\\n",
       "0      207317 2020-03-22 10:27:52.498         36236          36236   \n",
       "1       95246 2020-03-12 09:41:09.845         12900          12900   \n",
       "2      208074 2020-02-01 08:54:53.246          7500           7500   \n",
       "3       15552 2020-03-06 10:23:21.183         11800          11800   \n",
       "4      511595 2020-03-13 12:00:27.914         29700          29700   \n",
       "\n",
       "   cashback_amount  discount_amount  total_promotion  push_permission  gender  \\\n",
       "0             1087                0             1087             True       1   \n",
       "1              387                0              387             True       1   \n",
       "2              225                0              225             True       1   \n",
       "3              354                0              354            False       0   \n",
       "4              891                0              891             True       1   \n",
       "\n",
       "   is_foreigner   birthday            sign_up_date merchant_id  \n",
       "0         False 1957-11-05 2019-11-30 16:48:19.339           9  \n",
       "1         False 1983-10-23 2019-07-09 08:21:14.098           6  \n",
       "2         False 1975-07-06 2019-08-15 01:02:13.336           9  \n",
       "3         False 1996-08-21 2019-08-06 02:09:28.712           4  \n",
       "4         False 1999-01-23 2020-03-12 00:33:46.147           5  "
      ]
     },
     "execution_count": 219,
     "metadata": {},
     "output_type": "execute_result"
    }
   ],
   "source": [
    "df.head()"
   ]
  },
  {
   "cell_type": "code",
   "execution_count": 220,
   "metadata": {},
   "outputs": [
    {
     "data": {
      "text/html": [
       "<div>\n",
       "<style scoped>\n",
       "    .dataframe tbody tr th:only-of-type {\n",
       "        vertical-align: middle;\n",
       "    }\n",
       "\n",
       "    .dataframe tbody tr th {\n",
       "        vertical-align: top;\n",
       "    }\n",
       "\n",
       "    .dataframe thead th {\n",
       "        text-align: right;\n",
       "    }\n",
       "</style>\n",
       "<table border=\"1\" class=\"dataframe\">\n",
       "  <thead>\n",
       "    <tr style=\"text-align: right;\">\n",
       "      <th></th>\n",
       "      <th>pre_discount</th>\n",
       "      <th>post_discount</th>\n",
       "      <th>cashback_amount</th>\n",
       "      <th>discount_amount</th>\n",
       "      <th>total_promotion</th>\n",
       "      <th>gender</th>\n",
       "    </tr>\n",
       "  </thead>\n",
       "  <tbody>\n",
       "    <tr>\n",
       "      <th>count</th>\n",
       "      <td>5623810.000</td>\n",
       "      <td>5623810.000</td>\n",
       "      <td>5623810.000</td>\n",
       "      <td>5623810.000</td>\n",
       "      <td>5623810.000</td>\n",
       "      <td>5623810.000</td>\n",
       "    </tr>\n",
       "    <tr>\n",
       "      <th>mean</th>\n",
       "      <td>20455.330</td>\n",
       "      <td>19033.951</td>\n",
       "      <td>122.669</td>\n",
       "      <td>1421.380</td>\n",
       "      <td>1544.048</td>\n",
       "      <td>0.724</td>\n",
       "    </tr>\n",
       "    <tr>\n",
       "      <th>std</th>\n",
       "      <td>48731.631</td>\n",
       "      <td>47552.056</td>\n",
       "      <td>593.514</td>\n",
       "      <td>1960.640</td>\n",
       "      <td>1979.354</td>\n",
       "      <td>0.447</td>\n",
       "    </tr>\n",
       "    <tr>\n",
       "      <th>min</th>\n",
       "      <td>1.000</td>\n",
       "      <td>0.000</td>\n",
       "      <td>0.000</td>\n",
       "      <td>0.000</td>\n",
       "      <td>0.000</td>\n",
       "      <td>0.000</td>\n",
       "    </tr>\n",
       "    <tr>\n",
       "      <th>25%</th>\n",
       "      <td>7900.000</td>\n",
       "      <td>6900.000</td>\n",
       "      <td>0.000</td>\n",
       "      <td>0.000</td>\n",
       "      <td>542.000</td>\n",
       "      <td>0.000</td>\n",
       "    </tr>\n",
       "    <tr>\n",
       "      <th>50%</th>\n",
       "      <td>11900.000</td>\n",
       "      <td>10900.000</td>\n",
       "      <td>0.000</td>\n",
       "      <td>1000.000</td>\n",
       "      <td>1000.000</td>\n",
       "      <td>1.000</td>\n",
       "    </tr>\n",
       "    <tr>\n",
       "      <th>75%</th>\n",
       "      <td>19800.000</td>\n",
       "      <td>17920.000</td>\n",
       "      <td>0.000</td>\n",
       "      <td>2000.000</td>\n",
       "      <td>2000.000</td>\n",
       "      <td>1.000</td>\n",
       "    </tr>\n",
       "    <tr>\n",
       "      <th>max</th>\n",
       "      <td>1996000.000</td>\n",
       "      <td>1996000.000</td>\n",
       "      <td>97473.000</td>\n",
       "      <td>500000.000</td>\n",
       "      <td>500000.000</td>\n",
       "      <td>1.000</td>\n",
       "    </tr>\n",
       "  </tbody>\n",
       "</table>\n",
       "</div>"
      ],
      "text/plain": [
       "       pre_discount  post_discount  cashback_amount  discount_amount  \\\n",
       "count   5623810.000    5623810.000      5623810.000      5623810.000   \n",
       "mean      20455.330      19033.951          122.669         1421.380   \n",
       "std       48731.631      47552.056          593.514         1960.640   \n",
       "min           1.000          0.000            0.000            0.000   \n",
       "25%        7900.000       6900.000            0.000            0.000   \n",
       "50%       11900.000      10900.000            0.000         1000.000   \n",
       "75%       19800.000      17920.000            0.000         2000.000   \n",
       "max     1996000.000    1996000.000        97473.000       500000.000   \n",
       "\n",
       "       total_promotion      gender  \n",
       "count      5623810.000 5623810.000  \n",
       "mean          1544.048       0.724  \n",
       "std           1979.354       0.447  \n",
       "min              0.000       0.000  \n",
       "25%            542.000       0.000  \n",
       "50%           1000.000       1.000  \n",
       "75%           2000.000       1.000  \n",
       "max         500000.000       1.000  "
      ]
     },
     "execution_count": 220,
     "metadata": {},
     "output_type": "execute_result"
    }
   ],
   "source": [
    "# 데이터 분포\n",
    "df.describe()"
   ]
  },
  {
   "cell_type": "markdown",
   "metadata": {},
   "source": [
    "**Analysis**\n",
    "- pre_discount와 post_discount의 평균값 및  discount_amount를 확인해봤을 때 평균적으로 1420원 정도 할인이 들어감을 알 수 있다\n",
    "- 1회에 최대 결제 금액은 1996000원, 약 200만원 가량\n",
    "- 평균 캐시백 금액은 122.6원, 최대 캐시백 금액은 97473원, 그러나 3사분면까지 캐시백 금액이 0원인 것으로 보아 캐시백이 많이 이뤄지고 있지는 않다\n",
    "- 평균 할인 금액은 1421.4원, 최대 할인 금액은 500000원, 2사분면 지점의 값이 1000원인 것으로 보아 할인 제도가 캐시백보다 활성화되었음을 알 수 있고, 금액 또한 더 크다\n",
    "- 둘을 합친 total_promotion의 경우 평균 할인 금액은 1421.3원 가량 -> 캐시백과 일반 할인이 동시에 이뤄지는 지 확인 필요\n",
    "- Gender의 경우 1이 남성, 0이 여성이므로 1에 가까울수록 남성이 많고, 반대의 경우는 여성이 많은 것으로 해석 가능\n",
    "- Gender의 평균값은 0.724 -> 남성 유저가 여성 유저보다 결제 건수가 많다는 것을 알 수 있다"
   ]
  },
  {
   "cell_type": "code",
   "execution_count": 221,
   "metadata": {},
   "outputs": [
    {
     "data": {
      "text/html": [
       "<div>\n",
       "<style scoped>\n",
       "    .dataframe tbody tr th:only-of-type {\n",
       "        vertical-align: middle;\n",
       "    }\n",
       "\n",
       "    .dataframe tbody tr th {\n",
       "        vertical-align: top;\n",
       "    }\n",
       "\n",
       "    .dataframe thead th {\n",
       "        text-align: right;\n",
       "    }\n",
       "</style>\n",
       "<table border=\"1\" class=\"dataframe\">\n",
       "  <thead>\n",
       "    <tr style=\"text-align: right;\">\n",
       "      <th></th>\n",
       "      <th>pre_discount</th>\n",
       "      <th>post_discount</th>\n",
       "      <th>cashback_amount</th>\n",
       "      <th>discount_amount</th>\n",
       "      <th>total_promotion</th>\n",
       "      <th>push_permission</th>\n",
       "      <th>gender</th>\n",
       "      <th>is_foreigner</th>\n",
       "    </tr>\n",
       "  </thead>\n",
       "  <tbody>\n",
       "    <tr>\n",
       "      <th>pre_discount</th>\n",
       "      <td>1.000</td>\n",
       "      <td>0.999</td>\n",
       "      <td>0.232</td>\n",
       "      <td>0.614</td>\n",
       "      <td>0.678</td>\n",
       "      <td>-0.019</td>\n",
       "      <td>-0.050</td>\n",
       "      <td>-0.002</td>\n",
       "    </tr>\n",
       "    <tr>\n",
       "      <th>post_discount</th>\n",
       "      <td>0.999</td>\n",
       "      <td>1.000</td>\n",
       "      <td>0.243</td>\n",
       "      <td>0.588</td>\n",
       "      <td>0.656</td>\n",
       "      <td>-0.017</td>\n",
       "      <td>-0.048</td>\n",
       "      <td>-0.001</td>\n",
       "    </tr>\n",
       "    <tr>\n",
       "      <th>cashback_amount</th>\n",
       "      <td>0.232</td>\n",
       "      <td>0.243</td>\n",
       "      <td>1.000</td>\n",
       "      <td>-0.120</td>\n",
       "      <td>0.181</td>\n",
       "      <td>0.009</td>\n",
       "      <td>-0.012</td>\n",
       "      <td>0.009</td>\n",
       "    </tr>\n",
       "    <tr>\n",
       "      <th>discount_amount</th>\n",
       "      <td>0.614</td>\n",
       "      <td>0.588</td>\n",
       "      <td>-0.120</td>\n",
       "      <td>1.000</td>\n",
       "      <td>0.955</td>\n",
       "      <td>-0.048</td>\n",
       "      <td>-0.075</td>\n",
       "      <td>-0.019</td>\n",
       "    </tr>\n",
       "    <tr>\n",
       "      <th>total_promotion</th>\n",
       "      <td>0.678</td>\n",
       "      <td>0.656</td>\n",
       "      <td>0.181</td>\n",
       "      <td>0.955</td>\n",
       "      <td>1.000</td>\n",
       "      <td>-0.045</td>\n",
       "      <td>-0.078</td>\n",
       "      <td>-0.016</td>\n",
       "    </tr>\n",
       "    <tr>\n",
       "      <th>push_permission</th>\n",
       "      <td>-0.019</td>\n",
       "      <td>-0.017</td>\n",
       "      <td>0.009</td>\n",
       "      <td>-0.048</td>\n",
       "      <td>-0.045</td>\n",
       "      <td>1.000</td>\n",
       "      <td>0.060</td>\n",
       "      <td>0.066</td>\n",
       "    </tr>\n",
       "    <tr>\n",
       "      <th>gender</th>\n",
       "      <td>-0.050</td>\n",
       "      <td>-0.048</td>\n",
       "      <td>-0.012</td>\n",
       "      <td>-0.075</td>\n",
       "      <td>-0.078</td>\n",
       "      <td>0.060</td>\n",
       "      <td>1.000</td>\n",
       "      <td>0.031</td>\n",
       "    </tr>\n",
       "    <tr>\n",
       "      <th>is_foreigner</th>\n",
       "      <td>-0.002</td>\n",
       "      <td>-0.001</td>\n",
       "      <td>0.009</td>\n",
       "      <td>-0.019</td>\n",
       "      <td>-0.016</td>\n",
       "      <td>0.066</td>\n",
       "      <td>0.031</td>\n",
       "      <td>1.000</td>\n",
       "    </tr>\n",
       "  </tbody>\n",
       "</table>\n",
       "</div>"
      ],
      "text/plain": [
       "                 pre_discount  post_discount  cashback_amount  \\\n",
       "pre_discount            1.000          0.999            0.232   \n",
       "post_discount           0.999          1.000            0.243   \n",
       "cashback_amount         0.232          0.243            1.000   \n",
       "discount_amount         0.614          0.588           -0.120   \n",
       "total_promotion         0.678          0.656            0.181   \n",
       "push_permission        -0.019         -0.017            0.009   \n",
       "gender                 -0.050         -0.048           -0.012   \n",
       "is_foreigner           -0.002         -0.001            0.009   \n",
       "\n",
       "                 discount_amount  total_promotion  push_permission  gender  \\\n",
       "pre_discount               0.614            0.678           -0.019  -0.050   \n",
       "post_discount              0.588            0.656           -0.017  -0.048   \n",
       "cashback_amount           -0.120            0.181            0.009  -0.012   \n",
       "discount_amount            1.000            0.955           -0.048  -0.075   \n",
       "total_promotion            0.955            1.000           -0.045  -0.078   \n",
       "push_permission           -0.048           -0.045            1.000   0.060   \n",
       "gender                    -0.075           -0.078            0.060   1.000   \n",
       "is_foreigner              -0.019           -0.016            0.066   0.031   \n",
       "\n",
       "                 is_foreigner  \n",
       "pre_discount           -0.002  \n",
       "post_discount          -0.001  \n",
       "cashback_amount         0.009  \n",
       "discount_amount        -0.019  \n",
       "total_promotion        -0.016  \n",
       "push_permission         0.066  \n",
       "gender                  0.031  \n",
       "is_foreigner            1.000  "
      ]
     },
     "execution_count": 221,
     "metadata": {},
     "output_type": "execute_result"
    }
   ],
   "source": [
    "# 데이터 간 상관관계\n",
    "df.corr()"
   ]
  },
  {
   "cell_type": "markdown",
   "metadata": {},
   "source": [
    "**Analysis**\n",
    "- pre_discount, post_discount, cashback_amount, discount_amount, total_promotion은 서로 수치를 이용하여 생성된 값이므로 당연히 상관관계가 있음\n",
    "- push_permission, gender, is_foreigner 등은 단순한 집계 방식으로는 상관관계 분석이 어려움 -> 가설을 세우고 검정하는 단계 필요"
   ]
  },
  {
   "cell_type": "code",
   "execution_count": 222,
   "metadata": {},
   "outputs": [
    {
     "data": {
      "text/plain": [
       "array([[<AxesSubplot:title={'center':'created_at'}>,\n",
       "        <AxesSubplot:title={'center':'pre_discount'}>,\n",
       "        <AxesSubplot:title={'center':'post_discount'}>],\n",
       "       [<AxesSubplot:title={'center':'cashback_amount'}>,\n",
       "        <AxesSubplot:title={'center':'discount_amount'}>,\n",
       "        <AxesSubplot:title={'center':'total_promotion'}>],\n",
       "       [<AxesSubplot:title={'center':'gender'}>,\n",
       "        <AxesSubplot:title={'center':'birthday'}>,\n",
       "        <AxesSubplot:title={'center':'sign_up_date'}>]], dtype=object)"
      ]
     },
     "execution_count": 222,
     "metadata": {},
     "output_type": "execute_result"
    },
    {
     "data": {
      "image/png": "[encoded data removed]",
      "text/plain": [
       "<Figure size 1944x1296 with 9 Axes>"
      ]
     },
     "metadata": {
      "needs_background": "light"
     },
     "output_type": "display_data"
    }
   ],
   "source": [
    "# 전반적인 데이터 분포\n",
    "df.hist(figsize=(27,18))"
   ]
  },
  {
   "cell_type": "markdown",
   "metadata": {},
   "source": [
    "### Result\n",
    "- 각 cloumn 별 분석 진행\n",
    "- customer_id를 통한 유저 별 구매 건수 및 금액 조사 필요\n",
    "- 구매일시 (월별, 주별, 일별, 시간대별 등), 가입일자를 이용한 데이터 분석 필요\n",
    "- merchant_id를 이용한 산업별 소비 정도 탐색 필요\n",
    "- gender, push_permission, is_foreigner 이용한 AB 테스트 실험\n",
    "- push_permission + birthday 활용한 생일 쿠폰 전략\n",
    "- 각 거래 및 평균적인 할인 비율 조사 필요"
   ]
  },
  {
   "cell_type": "markdown",
   "metadata": {},
   "source": [
    "## Column 별 탐색 및 분석"
   ]
  },
  {
   "cell_type": "markdown",
   "metadata": {},
   "source": [
    "###"
   ]
  },
  {
   "cell_type": "markdown",
   "metadata": {},
   "source": [
    "### customer_id"
   ]
  },
  {
   "cell_type": "code",
   "execution_count": 223,
   "metadata": {},
   "outputs": [
    {
     "data": {
      "image/png": "[encoded data removed]",
      "text/plain": [
       "<Figure size 504x504 with 1 Axes>"
      ]
     },
     "metadata": {
      "needs_background": "light"
     },
     "output_type": "display_data"
    }
   ],
   "source": [
    "# 총 유저 수 및 유저별 거래량 -> 대부분 1회성에 그친다는 것을 알 수 있음\n",
    "df_v = df['customer_id'].value_counts()\n",
    "plt.figure(figsize=(7,7))\n",
    "plt.hist(df_v, bins=100)\n",
    "plt.show()"
   ]
  },
  {
   "cell_type": "code",
   "execution_count": 224,
   "metadata": {},
   "outputs": [
    {
     "data": {
      "image/png": "[encoded data removed]",
      "text/plain": [
       "<Figure size 504x504 with 1 Axes>"
      ]
     },
     "metadata": {},
     "output_type": "display_data"
    }
   ],
   "source": [
    "# 30% 가량의 고객이 단 한번만 결제를 했음을 알 수 있음\n",
    "plt.figure(figsize=(7,7),facecolor=\"white\")\n",
    "once = df_v[df_v.values==1].count()\n",
    "more = df_v[df_v.values!=1].count()\n",
    "labels= ['once'+'('+(str(once))+')','more'+'('+(str(more))+')']\n",
    "plt.pie([once,more],labels=labels, autopct='%.1f%%')\n",
    "plt.show()"
   ]
  },
  {
   "cell_type": "code",
   "execution_count": 225,
   "metadata": {},
   "outputs": [
    {
     "data": {
      "text/plain": [
       "False    5460583\n",
       "True      163227\n",
       "Name: once, dtype: int64"
      ]
     },
     "execution_count": 225,
     "metadata": {},
     "output_type": "execute_result"
    }
   ],
   "source": [
    "# 재구매율은 중요한 지표이므로 column에 새로 추가\n",
    "df['once'] = False\n",
    "df_v = df_v.to_frame().reset_index()\n",
    "df_v = df_v.rename(columns={'index':'customer_id','customer_id':'count'})\n",
    "df = pd.merge(df,df_v,on='customer_id')\n",
    "df.loc[df['count']==1,'once'] = True\n",
    "df = df.iloc[::,:-1]\n",
    "df['once'].value_counts()"
   ]
  },
  {
   "cell_type": "code",
   "execution_count": 60,
   "metadata": {},
   "outputs": [],
   "source": [
    "df_cus = df.groupby('customer_id').sum().reset_index()"
   ]
  },
  {
   "cell_type": "code",
   "execution_count": 61,
   "metadata": {},
   "outputs": [
    {
     "data": {
      "text/html": [
       "<div>\n",
       "<style scoped>\n",
       "    .dataframe tbody tr th:only-of-type {\n",
       "        vertical-align: middle;\n",
       "    }\n",
       "\n",
       "    .dataframe tbody tr th {\n",
       "        vertical-align: top;\n",
       "    }\n",
       "\n",
       "    .dataframe thead th {\n",
       "        text-align: right;\n",
       "    }\n",
       "</style>\n",
       "<table border=\"1\" class=\"dataframe\">\n",
       "  <thead>\n",
       "    <tr style=\"text-align: right;\">\n",
       "      <th></th>\n",
       "      <th>pre_discount</th>\n",
       "      <th>post_discount</th>\n",
       "      <th>cashback_amount</th>\n",
       "      <th>discount_amount</th>\n",
       "      <th>total_promotion</th>\n",
       "      <th>push_permission</th>\n",
       "      <th>gender</th>\n",
       "      <th>is_foreigner</th>\n",
       "    </tr>\n",
       "  </thead>\n",
       "  <tbody>\n",
       "    <tr>\n",
       "      <th>count</th>\n",
       "      <td>544921.000</td>\n",
       "      <td>544921.000</td>\n",
       "      <td>544921.000</td>\n",
       "      <td>544921.000</td>\n",
       "      <td>544921.000</td>\n",
       "      <td>544921.000</td>\n",
       "      <td>544921.000</td>\n",
       "      <td>544921.000</td>\n",
       "    </tr>\n",
       "    <tr>\n",
       "      <th>mean</th>\n",
       "      <td>211107.465</td>\n",
       "      <td>196438.240</td>\n",
       "      <td>1265.993</td>\n",
       "      <td>14669.225</td>\n",
       "      <td>15935.218</td>\n",
       "      <td>5.335</td>\n",
       "      <td>7.469</td>\n",
       "      <td>0.114</td>\n",
       "    </tr>\n",
       "    <tr>\n",
       "      <th>std</th>\n",
       "      <td>550003.100</td>\n",
       "      <td>527836.212</td>\n",
       "      <td>4782.908</td>\n",
       "      <td>26430.607</td>\n",
       "      <td>28799.927</td>\n",
       "      <td>17.769</td>\n",
       "      <td>19.208</td>\n",
       "      <td>4.137</td>\n",
       "    </tr>\n",
       "    <tr>\n",
       "      <th>min</th>\n",
       "      <td>500.000</td>\n",
       "      <td>0.000</td>\n",
       "      <td>0.000</td>\n",
       "      <td>0.000</td>\n",
       "      <td>0.000</td>\n",
       "      <td>0.000</td>\n",
       "      <td>0.000</td>\n",
       "      <td>0.000</td>\n",
       "    </tr>\n",
       "    <tr>\n",
       "      <th>25%</th>\n",
       "      <td>23800.000</td>\n",
       "      <td>20140.000</td>\n",
       "      <td>0.000</td>\n",
       "      <td>2000.000</td>\n",
       "      <td>3000.000</td>\n",
       "      <td>0.000</td>\n",
       "      <td>0.000</td>\n",
       "      <td>0.000</td>\n",
       "    </tr>\n",
       "    <tr>\n",
       "      <th>50%</th>\n",
       "      <td>67300.000</td>\n",
       "      <td>60480.000</td>\n",
       "      <td>0.000</td>\n",
       "      <td>6000.000</td>\n",
       "      <td>6681.000</td>\n",
       "      <td>0.000</td>\n",
       "      <td>1.000</td>\n",
       "      <td>0.000</td>\n",
       "    </tr>\n",
       "    <tr>\n",
       "      <th>75%</th>\n",
       "      <td>206356.000</td>\n",
       "      <td>191024.000</td>\n",
       "      <td>660.000</td>\n",
       "      <td>15396.000</td>\n",
       "      <td>16663.000</td>\n",
       "      <td>3.000</td>\n",
       "      <td>6.000</td>\n",
       "      <td>0.000</td>\n",
       "    </tr>\n",
       "    <tr>\n",
       "      <th>max</th>\n",
       "      <td>115005350.000</td>\n",
       "      <td>112273800.000</td>\n",
       "      <td>851803.000</td>\n",
       "      <td>2731550.000</td>\n",
       "      <td>2731550.000</td>\n",
       "      <td>2705.000</td>\n",
       "      <td>2705.000</td>\n",
       "      <td>1229.000</td>\n",
       "    </tr>\n",
       "  </tbody>\n",
       "</table>\n",
       "</div>"
      ],
      "text/plain": [
       "       pre_discount  post_discount  cashback_amount  discount_amount  \\\n",
       "count    544921.000     544921.000       544921.000       544921.000   \n",
       "mean     211107.465     196438.240         1265.993        14669.225   \n",
       "std      550003.100     527836.212         4782.908        26430.607   \n",
       "min         500.000          0.000            0.000            0.000   \n",
       "25%       23800.000      20140.000            0.000         2000.000   \n",
       "50%       67300.000      60480.000            0.000         6000.000   \n",
       "75%      206356.000     191024.000          660.000        15396.000   \n",
       "max   115005350.000  112273800.000       851803.000      2731550.000   \n",
       "\n",
       "       total_promotion  push_permission     gender  is_foreigner  \n",
       "count       544921.000       544921.000 544921.000    544921.000  \n",
       "mean         15935.218            5.335      7.469         0.114  \n",
       "std          28799.927           17.769     19.208         4.137  \n",
       "min              0.000            0.000      0.000         0.000  \n",
       "25%           3000.000            0.000      0.000         0.000  \n",
       "50%           6681.000            0.000      1.000         0.000  \n",
       "75%          16663.000            3.000      6.000         0.000  \n",
       "max        2731550.000         2705.000   2705.000      1229.000  "
      ]
     },
     "execution_count": 61,
     "metadata": {},
     "output_type": "execute_result"
    }
   ],
   "source": [
    "df_cus.describe()"
   ]
  },
  {
   "cell_type": "code",
   "execution_count": null,
   "metadata": {},
   "outputs": [],
   "source": []
  },
  {
   "cell_type": "code",
   "execution_count": null,
   "metadata": {},
   "outputs": [],
   "source": []
  }
 ],
 "metadata": {
  "kernelspec": {
   "display_name": "Python 3.8.13",
   "language": "python",
   "name": "python3"
  },
  "language_info": {
   "codemirror_mode": {
    "name": "ipython",
    "version": 3
   },
   "file_extension": ".py",
   "mimetype": "text/x-python",
   "name": "python",
   "nbconvert_exporter": "python",
   "pygments_lexer": "ipython3",
   "version": "3.8.13"
  },
  "orig_nbformat": 4,
  "vscode": {
   "interpreter": {
    "hash": "edd2e1eeac16ba0124adb27271db416cf5b91db76e0734afe4505ea0738c76e5"
   }
  }
 },
 "nbformat": 4,
 "nbformat_minor": 2
}
